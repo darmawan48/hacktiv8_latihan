
list_kendaraan = ['motor', 'bemo', 'bajai','mobil']
print(list_kendaraan)
